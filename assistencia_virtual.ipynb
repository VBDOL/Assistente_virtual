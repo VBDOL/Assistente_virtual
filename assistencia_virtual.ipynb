{
  "nbformat": 4,
  "nbformat_minor": 0,
  "metadata": {
    "colab": {
      "provenance": []
    },
    "kernelspec": {
      "name": "python3",
      "display_name": "Python 3"
    },
    "language_info": {
      "name": "python"
    }
  },
  "cells": [
    {
      "cell_type": "markdown",
      "source": [
        "1. Instalar as bibliotecas necessárias"
      ],
      "metadata": {
        "id": "9MLX9eQkdcrO"
      }
    },
    {
      "cell_type": "code",
      "execution_count": 1,
      "metadata": {
        "colab": {
          "base_uri": "https://localhost:8080/"
        },
        "id": "wqWK78vGdWPn",
        "outputId": "b7158139-b657-41c5-88d2-aa62bf9c155a"
      },
      "outputs": [
        {
          "output_type": "stream",
          "name": "stdout",
          "text": [
            "Collecting gTTS\n",
            "  Downloading gTTS-2.5.4-py3-none-any.whl.metadata (4.1 kB)\n",
            "Collecting speechrecognition\n",
            "  Downloading SpeechRecognition-3.12.0-py3-none-any.whl.metadata (30 kB)\n",
            "Collecting playsound\n",
            "  Downloading playsound-1.3.0.tar.gz (7.7 kB)\n",
            "  Preparing metadata (setup.py) ... \u001b[?25l\u001b[?25hdone\n",
            "Requirement already satisfied: pygame in /usr/local/lib/python3.10/dist-packages (2.6.1)\n",
            "Collecting wikipedia\n",
            "  Downloading wikipedia-1.4.0.tar.gz (27 kB)\n",
            "  Preparing metadata (setup.py) ... \u001b[?25l\u001b[?25hdone\n",
            "Collecting pyjokes\n",
            "  Downloading pyjokes-0.8.3-py3-none-any.whl.metadata (3.4 kB)\n",
            "Requirement already satisfied: requests<3,>=2.27 in /usr/local/lib/python3.10/dist-packages (from gTTS) (2.32.3)\n",
            "Requirement already satisfied: click<8.2,>=7.1 in /usr/local/lib/python3.10/dist-packages (from gTTS) (8.1.7)\n",
            "Requirement already satisfied: typing-extensions in /usr/local/lib/python3.10/dist-packages (from speechrecognition) (4.12.2)\n",
            "Requirement already satisfied: beautifulsoup4 in /usr/local/lib/python3.10/dist-packages (from wikipedia) (4.12.3)\n",
            "Requirement already satisfied: charset-normalizer<4,>=2 in /usr/local/lib/python3.10/dist-packages (from requests<3,>=2.27->gTTS) (3.4.0)\n",
            "Requirement already satisfied: idna<4,>=2.5 in /usr/local/lib/python3.10/dist-packages (from requests<3,>=2.27->gTTS) (3.10)\n",
            "Requirement already satisfied: urllib3<3,>=1.21.1 in /usr/local/lib/python3.10/dist-packages (from requests<3,>=2.27->gTTS) (2.2.3)\n",
            "Requirement already satisfied: certifi>=2017.4.17 in /usr/local/lib/python3.10/dist-packages (from requests<3,>=2.27->gTTS) (2024.12.14)\n",
            "Requirement already satisfied: soupsieve>1.2 in /usr/local/lib/python3.10/dist-packages (from beautifulsoup4->wikipedia) (2.6)\n",
            "Downloading gTTS-2.5.4-py3-none-any.whl (29 kB)\n",
            "Downloading SpeechRecognition-3.12.0-py3-none-any.whl (32.8 MB)\n",
            "\u001b[2K   \u001b[90m━━━━━━━━━━━━━━━━━━━━━━━━━━━━━━━━━━━━━━━━\u001b[0m \u001b[32m32.8/32.8 MB\u001b[0m \u001b[31m30.6 MB/s\u001b[0m eta \u001b[36m0:00:00\u001b[0m\n",
            "\u001b[?25hDownloading pyjokes-0.8.3-py3-none-any.whl (47 kB)\n",
            "\u001b[2K   \u001b[90m━━━━━━━━━━━━━━━━━━━━━━━━━━━━━━━━━━━━━━━━\u001b[0m \u001b[32m47.6/47.6 kB\u001b[0m \u001b[31m2.7 MB/s\u001b[0m eta \u001b[36m0:00:00\u001b[0m\n",
            "\u001b[?25hBuilding wheels for collected packages: playsound, wikipedia\n",
            "  Building wheel for playsound (setup.py) ... \u001b[?25l\u001b[?25hdone\n",
            "  Created wheel for playsound: filename=playsound-1.3.0-py3-none-any.whl size=7020 sha256=8be54796743ba71734f9d906c0df5dd1eb99acbbc00b39a5ae29977063713450\n",
            "  Stored in directory: /root/.cache/pip/wheels/90/89/ed/2d643f4226fc8c7c9156fc28abd8051e2d2c0de37ae51ac45c\n",
            "  Building wheel for wikipedia (setup.py) ... \u001b[?25l\u001b[?25hdone\n",
            "  Created wheel for wikipedia: filename=wikipedia-1.4.0-py3-none-any.whl size=11679 sha256=19ea8e059da1d797f58ef8fb692d1d5a44d3e3fcb85dc3d05090a6b02e193c18\n",
            "  Stored in directory: /root/.cache/pip/wheels/5e/b6/c5/93f3dec388ae76edc830cb42901bb0232504dfc0df02fc50de\n",
            "Successfully built playsound wikipedia\n",
            "Installing collected packages: playsound, speechrecognition, pyjokes, wikipedia, gTTS\n",
            "Successfully installed gTTS-2.5.4 playsound-1.3.0 pyjokes-0.8.3 speechrecognition-3.12.0 wikipedia-1.4.0\n"
          ]
        }
      ],
      "source": [
        "!pip install gTTS speechrecognition playsound pygame wikipedia pyjokes"
      ]
    },
    {
      "cell_type": "markdown",
      "source": [
        "2. Configurar Text-to-Speech (TTS)"
      ],
      "metadata": {
        "id": "WI_NY0BrddKX"
      }
    },
    {
      "cell_type": "code",
      "source": [
        "from gtts import gTTS\n",
        "from IPython.display import Audio\n",
        "\n",
        "def text_to_speech(text, lang=\"en\", slow=False):\n",
        "    tts = gTTS(text=text, lang=lang, slow=slow)\n",
        "    filename = \"tts_output.mp3\"\n",
        "    tts.save(filename)\n",
        "    return Audio(filename, autoplay=True)\n",
        "\n",
        "# Exemplo de uso\n",
        "text_to_speech(\"Hello, how can I help you?\")"
      ],
      "metadata": {
        "colab": {
          "base_uri": "https://localhost:8080/",
          "height": 75
        },
        "id": "0r9sW-A5ddsB",
        "outputId": "c8c993ab-a48b-4e9c-9f40-49254f74660c"
      },
      "execution_count": 2,
      "outputs": [
        {
          "output_type": "execute_result",
          "data": {
            "text/plain": [
              "<IPython.lib.display.Audio object>"
            ],
            "text/html": [
              "\n",
              "                <audio  controls=\"controls\" autoplay=\"autoplay\">\n",
              "                    <source src=\"data:audio/mpeg;base64,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\" type=\"audio/mpeg\" />\n",
              "                    Your browser does not support the audio element.\n",
              "                </audio>\n",
              "              "
            ]
          },
          "metadata": {},
          "execution_count": 2
        }
      ]
    },
    {
      "cell_type": "markdown",
      "source": [
        "3. Configurar Speech-to-Text (STT)"
      ],
      "metadata": {
        "id": "8tj7A2YCdeLJ"
      }
    },
    {
      "cell_type": "code",
      "source": [
        "import speech_recognition as sr\n",
        "\n",
        "def speech_to_text():\n",
        "    recognizer = sr.Recognizer()\n",
        "    with sr.Microphone() as source:\n",
        "        print(\"Adjusting for background noise. One second...\")\n",
        "        recognizer.adjust_for_ambient_noise(source, duration=1)\n",
        "        print(\"Listening...\")\n",
        "        audio = recognizer.listen(source)\n",
        "    try:\n",
        "        text = recognizer.recognize_google(audio)\n",
        "        print(f\"You said: {text}\")\n",
        "        return text.lower()\n",
        "    except sr.UnknownValueError:\n",
        "        print(\"Sorry, I did not understand that.\")\n",
        "        return None\n",
        "    except sr.RequestError as e:\n",
        "        print(f\"Error with the speech recognition service: {e}\")\n",
        "        return None\n",
        "\n",
        "# Exemplo de uso\n",
        "# speech_to_text()"
      ],
      "metadata": {
        "id": "zBihyzWederb"
      },
      "execution_count": 3,
      "outputs": []
    },
    {
      "cell_type": "markdown",
      "source": [
        "4. Integrar as funcionalidades automatizadas"
      ],
      "metadata": {
        "id": "m0Ya5LHTde9b"
      }
    },
    {
      "cell_type": "code",
      "source": [
        "import webbrowser\n",
        "import wikipedia\n",
        "import pyjokes\n",
        "from datetime import datetime\n",
        "\n",
        "def respond_to_command(command):\n",
        "    if \"youtube\" in command:\n",
        "        print(\"What would you like to search for?\")\n",
        "        query = speech_to_text()\n",
        "        if query:\n",
        "            url = f\"https://www.youtube.com/results?search_query={query}\"\n",
        "            webbrowser.open(url)\n",
        "            text_to_speech(f\"Here are the results for {query} on YouTube.\")\n",
        "    elif \"search\" in command:\n",
        "        print(\"What do you want to search for?\")\n",
        "        query = speech_to_text()\n",
        "        if query:\n",
        "            summary = wikipedia.summary(query, sentences=2)\n",
        "            print(summary)\n",
        "            text_to_speech(f\"According to Wikipedia: {summary}\")\n",
        "    elif \"joke\" in command:\n",
        "        joke = pyjokes.get_joke()\n",
        "        print(joke)\n",
        "        text_to_speech(joke)\n",
        "    elif \"time\" in command:\n",
        "        current_time = datetime.now().strftime(\"%H:%M\")\n",
        "        print(f\"Current time is {current_time}\")\n",
        "        text_to_speech(f\"The time is {current_time}.\")\n",
        "    elif \"exit\" in command:\n",
        "        text_to_speech(\"Goodbye! Have a great day!\")\n",
        "        return False\n",
        "    return True"
      ],
      "metadata": {
        "id": "0-nE6hUadfQt"
      },
      "execution_count": 4,
      "outputs": []
    },
    {
      "cell_type": "markdown",
      "source": [
        "5. Criar o loop principal"
      ],
      "metadata": {
        "id": "xW_UzTDydfy9"
      }
    },
    {
      "cell_type": "code",
      "source": [
        "def virtual_assistant_simulation():\n",
        "    text_to_speech(\"Hello, I am your virtual assistant. Type your command to proceed:\")\n",
        "    running = True\n",
        "    while running:\n",
        "        print(\"Type your command below:\")\n",
        "        command = input(\"You: \").lower()\n",
        "        if command:\n",
        "            running = respond_to_command(command)\n",
        "\n",
        "# Executar a simulação\n",
        "virtual_assistant_simulation()"
      ],
      "metadata": {
        "id": "lhy9o7xcdgH7",
        "colab": {
          "base_uri": "https://localhost:8080/",
          "height": 460
        },
        "outputId": "18ef558d-cf82-438d-e2a7-ef8a5ced7c29"
      },
      "execution_count": 7,
      "outputs": [
        {
          "output_type": "stream",
          "name": "stdout",
          "text": [
            "Type your command below:\n",
            "You: youtube\n",
            "What would you like to search for?\n"
          ]
        },
        {
          "output_type": "error",
          "ename": "AttributeError",
          "evalue": "Could not find PyAudio; check installation",
          "traceback": [
            "\u001b[0;31m---------------------------------------------------------------------------\u001b[0m",
            "\u001b[0;31mModuleNotFoundError\u001b[0m                       Traceback (most recent call last)",
            "\u001b[0;32m/usr/local/lib/python3.10/dist-packages/speech_recognition/__init__.py\u001b[0m in \u001b[0;36mget_pyaudio\u001b[0;34m()\u001b[0m\n\u001b[1;32m    102\u001b[0m         \u001b[0;32mtry\u001b[0m\u001b[0;34m:\u001b[0m\u001b[0;34m\u001b[0m\u001b[0;34m\u001b[0m\u001b[0m\n\u001b[0;32m--> 103\u001b[0;31m             \u001b[0;32mimport\u001b[0m \u001b[0mpyaudio\u001b[0m\u001b[0;34m\u001b[0m\u001b[0;34m\u001b[0m\u001b[0m\n\u001b[0m\u001b[1;32m    104\u001b[0m         \u001b[0;32mexcept\u001b[0m \u001b[0mImportError\u001b[0m\u001b[0;34m:\u001b[0m\u001b[0;34m\u001b[0m\u001b[0;34m\u001b[0m\u001b[0m\n",
            "\u001b[0;31mModuleNotFoundError\u001b[0m: No module named 'pyaudio'",
            "\nDuring handling of the above exception, another exception occurred:\n",
            "\u001b[0;31mAttributeError\u001b[0m                            Traceback (most recent call last)",
            "\u001b[0;32m<ipython-input-7-618299b31b2e>\u001b[0m in \u001b[0;36m<cell line: 11>\u001b[0;34m()\u001b[0m\n\u001b[1;32m      9\u001b[0m \u001b[0;34m\u001b[0m\u001b[0m\n\u001b[1;32m     10\u001b[0m \u001b[0;31m# Executar a simulação\u001b[0m\u001b[0;34m\u001b[0m\u001b[0;34m\u001b[0m\u001b[0m\n\u001b[0;32m---> 11\u001b[0;31m \u001b[0mvirtual_assistant_simulation\u001b[0m\u001b[0;34m(\u001b[0m\u001b[0;34m)\u001b[0m\u001b[0;34m\u001b[0m\u001b[0;34m\u001b[0m\u001b[0m\n\u001b[0m",
            "\u001b[0;32m<ipython-input-7-618299b31b2e>\u001b[0m in \u001b[0;36mvirtual_assistant_simulation\u001b[0;34m()\u001b[0m\n\u001b[1;32m      6\u001b[0m         \u001b[0mcommand\u001b[0m \u001b[0;34m=\u001b[0m \u001b[0minput\u001b[0m\u001b[0;34m(\u001b[0m\u001b[0;34m\"You: \"\u001b[0m\u001b[0;34m)\u001b[0m\u001b[0;34m.\u001b[0m\u001b[0mlower\u001b[0m\u001b[0;34m(\u001b[0m\u001b[0;34m)\u001b[0m\u001b[0;34m\u001b[0m\u001b[0;34m\u001b[0m\u001b[0m\n\u001b[1;32m      7\u001b[0m         \u001b[0;32mif\u001b[0m \u001b[0mcommand\u001b[0m\u001b[0;34m:\u001b[0m\u001b[0;34m\u001b[0m\u001b[0;34m\u001b[0m\u001b[0m\n\u001b[0;32m----> 8\u001b[0;31m             \u001b[0mrunning\u001b[0m \u001b[0;34m=\u001b[0m \u001b[0mrespond_to_command\u001b[0m\u001b[0;34m(\u001b[0m\u001b[0mcommand\u001b[0m\u001b[0;34m)\u001b[0m\u001b[0;34m\u001b[0m\u001b[0;34m\u001b[0m\u001b[0m\n\u001b[0m\u001b[1;32m      9\u001b[0m \u001b[0;34m\u001b[0m\u001b[0m\n\u001b[1;32m     10\u001b[0m \u001b[0;31m# Executar a simulação\u001b[0m\u001b[0;34m\u001b[0m\u001b[0;34m\u001b[0m\u001b[0m\n",
            "\u001b[0;32m<ipython-input-4-20672fc5d921>\u001b[0m in \u001b[0;36mrespond_to_command\u001b[0;34m(command)\u001b[0m\n\u001b[1;32m      7\u001b[0m     \u001b[0;32mif\u001b[0m \u001b[0;34m\"youtube\"\u001b[0m \u001b[0;32min\u001b[0m \u001b[0mcommand\u001b[0m\u001b[0;34m:\u001b[0m\u001b[0;34m\u001b[0m\u001b[0;34m\u001b[0m\u001b[0m\n\u001b[1;32m      8\u001b[0m         \u001b[0mprint\u001b[0m\u001b[0;34m(\u001b[0m\u001b[0;34m\"What would you like to search for?\"\u001b[0m\u001b[0;34m)\u001b[0m\u001b[0;34m\u001b[0m\u001b[0;34m\u001b[0m\u001b[0m\n\u001b[0;32m----> 9\u001b[0;31m         \u001b[0mquery\u001b[0m \u001b[0;34m=\u001b[0m \u001b[0mspeech_to_text\u001b[0m\u001b[0;34m(\u001b[0m\u001b[0;34m)\u001b[0m\u001b[0;34m\u001b[0m\u001b[0;34m\u001b[0m\u001b[0m\n\u001b[0m\u001b[1;32m     10\u001b[0m         \u001b[0;32mif\u001b[0m \u001b[0mquery\u001b[0m\u001b[0;34m:\u001b[0m\u001b[0;34m\u001b[0m\u001b[0;34m\u001b[0m\u001b[0m\n\u001b[1;32m     11\u001b[0m             \u001b[0murl\u001b[0m \u001b[0;34m=\u001b[0m \u001b[0;34mf\"https://www.youtube.com/results?search_query={query}\"\u001b[0m\u001b[0;34m\u001b[0m\u001b[0;34m\u001b[0m\u001b[0m\n",
            "\u001b[0;32m<ipython-input-3-5711e54f49b1>\u001b[0m in \u001b[0;36mspeech_to_text\u001b[0;34m()\u001b[0m\n\u001b[1;32m      3\u001b[0m \u001b[0;32mdef\u001b[0m \u001b[0mspeech_to_text\u001b[0m\u001b[0;34m(\u001b[0m\u001b[0;34m)\u001b[0m\u001b[0;34m:\u001b[0m\u001b[0;34m\u001b[0m\u001b[0;34m\u001b[0m\u001b[0m\n\u001b[1;32m      4\u001b[0m     \u001b[0mrecognizer\u001b[0m \u001b[0;34m=\u001b[0m \u001b[0msr\u001b[0m\u001b[0;34m.\u001b[0m\u001b[0mRecognizer\u001b[0m\u001b[0;34m(\u001b[0m\u001b[0;34m)\u001b[0m\u001b[0;34m\u001b[0m\u001b[0;34m\u001b[0m\u001b[0m\n\u001b[0;32m----> 5\u001b[0;31m     \u001b[0;32mwith\u001b[0m \u001b[0msr\u001b[0m\u001b[0;34m.\u001b[0m\u001b[0mMicrophone\u001b[0m\u001b[0;34m(\u001b[0m\u001b[0;34m)\u001b[0m \u001b[0;32mas\u001b[0m \u001b[0msource\u001b[0m\u001b[0;34m:\u001b[0m\u001b[0;34m\u001b[0m\u001b[0;34m\u001b[0m\u001b[0m\n\u001b[0m\u001b[1;32m      6\u001b[0m         \u001b[0mprint\u001b[0m\u001b[0;34m(\u001b[0m\u001b[0;34m\"Adjusting for background noise. One second...\"\u001b[0m\u001b[0;34m)\u001b[0m\u001b[0;34m\u001b[0m\u001b[0;34m\u001b[0m\u001b[0m\n\u001b[1;32m      7\u001b[0m         \u001b[0mrecognizer\u001b[0m\u001b[0;34m.\u001b[0m\u001b[0madjust_for_ambient_noise\u001b[0m\u001b[0;34m(\u001b[0m\u001b[0msource\u001b[0m\u001b[0;34m,\u001b[0m \u001b[0mduration\u001b[0m\u001b[0;34m=\u001b[0m\u001b[0;36m1\u001b[0m\u001b[0;34m)\u001b[0m\u001b[0;34m\u001b[0m\u001b[0;34m\u001b[0m\u001b[0m\n",
            "\u001b[0;32m/usr/local/lib/python3.10/dist-packages/speech_recognition/__init__.py\u001b[0m in \u001b[0;36m__init__\u001b[0;34m(self, device_index, sample_rate, chunk_size)\u001b[0m\n\u001b[1;32m     73\u001b[0m \u001b[0;34m\u001b[0m\u001b[0m\n\u001b[1;32m     74\u001b[0m         \u001b[0;31m# set up PyAudio\u001b[0m\u001b[0;34m\u001b[0m\u001b[0;34m\u001b[0m\u001b[0m\n\u001b[0;32m---> 75\u001b[0;31m         \u001b[0mself\u001b[0m\u001b[0;34m.\u001b[0m\u001b[0mpyaudio_module\u001b[0m \u001b[0;34m=\u001b[0m \u001b[0mself\u001b[0m\u001b[0;34m.\u001b[0m\u001b[0mget_pyaudio\u001b[0m\u001b[0;34m(\u001b[0m\u001b[0;34m)\u001b[0m\u001b[0;34m\u001b[0m\u001b[0;34m\u001b[0m\u001b[0m\n\u001b[0m\u001b[1;32m     76\u001b[0m         \u001b[0maudio\u001b[0m \u001b[0;34m=\u001b[0m \u001b[0mself\u001b[0m\u001b[0;34m.\u001b[0m\u001b[0mpyaudio_module\u001b[0m\u001b[0;34m.\u001b[0m\u001b[0mPyAudio\u001b[0m\u001b[0;34m(\u001b[0m\u001b[0;34m)\u001b[0m\u001b[0;34m\u001b[0m\u001b[0;34m\u001b[0m\u001b[0m\n\u001b[1;32m     77\u001b[0m         \u001b[0;32mtry\u001b[0m\u001b[0;34m:\u001b[0m\u001b[0;34m\u001b[0m\u001b[0;34m\u001b[0m\u001b[0m\n",
            "\u001b[0;32m/usr/local/lib/python3.10/dist-packages/speech_recognition/__init__.py\u001b[0m in \u001b[0;36mget_pyaudio\u001b[0;34m()\u001b[0m\n\u001b[1;32m    103\u001b[0m             \u001b[0;32mimport\u001b[0m \u001b[0mpyaudio\u001b[0m\u001b[0;34m\u001b[0m\u001b[0;34m\u001b[0m\u001b[0m\n\u001b[1;32m    104\u001b[0m         \u001b[0;32mexcept\u001b[0m \u001b[0mImportError\u001b[0m\u001b[0;34m:\u001b[0m\u001b[0;34m\u001b[0m\u001b[0;34m\u001b[0m\u001b[0m\n\u001b[0;32m--> 105\u001b[0;31m             \u001b[0;32mraise\u001b[0m \u001b[0mAttributeError\u001b[0m\u001b[0;34m(\u001b[0m\u001b[0;34m\"Could not find PyAudio; check installation\"\u001b[0m\u001b[0;34m)\u001b[0m\u001b[0;34m\u001b[0m\u001b[0;34m\u001b[0m\u001b[0m\n\u001b[0m\u001b[1;32m    106\u001b[0m         \u001b[0;32mreturn\u001b[0m \u001b[0mpyaudio\u001b[0m\u001b[0;34m\u001b[0m\u001b[0;34m\u001b[0m\u001b[0m\n\u001b[1;32m    107\u001b[0m \u001b[0;34m\u001b[0m\u001b[0m\n",
            "\u001b[0;31mAttributeError\u001b[0m: Could not find PyAudio; check installation"
          ]
        }
      ]
    }
  ]
}